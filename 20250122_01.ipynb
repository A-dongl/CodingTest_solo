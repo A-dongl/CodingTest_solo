{
 "cells": [
  {
   "cell_type": "code",
   "execution_count": 1,
   "id": "bee3f4d2",
   "metadata": {
    "ExecuteTime": {
     "end_time": "2025-01-22T13:55:33.890722Z",
     "start_time": "2025-01-22T13:55:33.877596Z"
    }
   },
   "outputs": [],
   "source": [
    "# 1~10 sum\n",
    "sum = 0\n",
    "for i in range(10):\n",
    "    sum += i"
   ]
  },
  {
   "cell_type": "code",
   "execution_count": 2,
   "id": "7922a25a",
   "metadata": {
    "ExecuteTime": {
     "end_time": "2025-01-22T13:55:37.830422Z",
     "start_time": "2025-01-22T13:55:37.809426Z"
    }
   },
   "outputs": [
    {
     "data": {
      "text/plain": [
       "45"
      ]
     },
     "execution_count": 2,
     "metadata": {},
     "output_type": "execute_result"
    }
   ],
   "source": [
    "sum"
   ]
  },
  {
   "cell_type": "code",
   "execution_count": 11,
   "id": "43582b3d",
   "metadata": {
    "ExecuteTime": {
     "end_time": "2025-01-22T13:58:02.703916Z",
     "start_time": "2025-01-22T13:58:02.695622Z"
    }
   },
   "outputs": [
    {
     "data": {
      "text/plain": [
       "True"
      ]
     },
     "execution_count": 11,
     "metadata": {},
     "output_type": "execute_result"
    }
   ],
   "source": [
    "def are_equal(a,b):\n",
    "    return a == b\n",
    "\n",
    "are_equal(10,10.0)"
   ]
  },
  {
   "cell_type": "code",
   "execution_count": 12,
   "id": "1861fda6",
   "metadata": {
    "ExecuteTime": {
     "end_time": "2025-01-22T13:59:11.018654Z",
     "start_time": "2025-01-22T13:59:11.014275Z"
    }
   },
   "outputs": [
    {
     "data": {
      "text/plain": [
       "True"
      ]
     },
     "execution_count": 12,
     "metadata": {},
     "output_type": "execute_result"
    }
   ],
   "source": [
    "from typing import TypeVar\n",
    "\n",
    "T = TypeVar('T')\n",
    "U = TypeVar('U')\n",
    "\n",
    "def are_equal(a:T, b:U) -> bool:\n",
    "    return a==b\n",
    "\n",
    "are_equal(10,10.0)"
   ]
  },
  {
   "cell_type": "code",
   "execution_count": null,
   "id": "a46db68e",
   "metadata": {},
   "outputs": [],
   "source": []
  }
 ],
 "metadata": {
  "kernelspec": {
   "display_name": "Python 3 (ipykernel)",
   "language": "python",
   "name": "python3"
  },
  "language_info": {
   "codemirror_mode": {
    "name": "ipython",
    "version": 3
   },
   "file_extension": ".py",
   "mimetype": "text/x-python",
   "name": "python",
   "nbconvert_exporter": "python",
   "pygments_lexer": "ipython3",
   "version": "3.9.13"
  },
  "toc": {
   "base_numbering": 1,
   "nav_menu": {},
   "number_sections": true,
   "sideBar": true,
   "skip_h1_title": false,
   "title_cell": "Table of Contents",
   "title_sidebar": "Contents",
   "toc_cell": false,
   "toc_position": {},
   "toc_section_display": true,
   "toc_window_display": false
  },
  "varInspector": {
   "cols": {
    "lenName": 16,
    "lenType": 16,
    "lenVar": 40
   },
   "kernels_config": {
    "python": {
     "delete_cmd_postfix": "",
     "delete_cmd_prefix": "del ",
     "library": "var_list.py",
     "varRefreshCmd": "print(var_dic_list())"
    },
    "r": {
     "delete_cmd_postfix": ") ",
     "delete_cmd_prefix": "rm(",
     "library": "var_list.r",
     "varRefreshCmd": "cat(var_dic_list()) "
    }
   },
   "types_to_exclude": [
    "module",
    "function",
    "builtin_function_or_method",
    "instance",
    "_Feature"
   ],
   "window_display": false
  }
 },
 "nbformat": 4,
 "nbformat_minor": 5
}
